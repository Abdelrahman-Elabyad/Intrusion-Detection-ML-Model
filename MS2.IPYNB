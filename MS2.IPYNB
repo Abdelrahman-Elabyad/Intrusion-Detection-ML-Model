{
 "cells": [
  {
   "cell_type": "code",
   "execution_count": 11,
   "metadata": {},
   "outputs": [],
   "source": [
    "import pandas as pd\n",
    "import numpy as np\n",
    "import seaborn as sns\n",
    "import matplotlib.pyplot as plt\n",
    "from sklearn.model_selection import train_test_split\n",
    "from sklearn.metrics import accuracy_score, precision_score, recall_score"
   ]
  },
  {
   "cell_type": "markdown",
   "metadata": {},
   "source": [
    "the rand_state is set to a specific integer so the it ensures that the shuffle is the same  every time (controling the random seed)\n"
   ]
  },
  {
   "cell_type": "code",
   "execution_count": 12,
   "metadata": {},
   "outputs": [],
   "source": [
    "df = pd.read_csv(\"Train_data.csv\")\n",
    "x = df.drop(columns=[\"class\"])  \n",
    "y = df[\"class\"]\n",
    "x_train, x_test, y_train, y_test = train_test_split(x, y, test_size=0.3, random_state=42)"
   ]
  },
  {
   "cell_type": "markdown",
   "metadata": {},
   "source": [
    "Z-table approximation\n",
    "it is done only using the mean and standarad deviation of the training set to avoid these problems  \n",
    "\n",
    "Avoid Data Leakage: Calculating the mean and standard deviation on the whole dataset (train + test) can introduce \"data leakage,\" where information from the test set influences the training process, potentially leading to overly optimistic results.\n",
    "\n",
    "Consistency: By using the mean and standard deviation from the training data, you ensure that the transformation reflects only the information the model has learned from the training data. This way, the test set remains a truly unseen set for evaluation purposes."
   ]
  },
  {
   "cell_type": "code",
   "execution_count": null,
   "metadata": {},
   "outputs": [
    {
     "name": "stdout",
     "output_type": "stream",
     "text": [
      "19064    anomaly\n",
      "11127     normal\n",
      "6517     anomaly\n",
      "2973      normal\n",
      "13339    anomaly\n",
      "          ...   \n",
      "15322    anomaly\n",
      "24483    anomaly\n",
      "6778      normal\n",
      "9500     anomaly\n",
      "19865    anomaly\n",
      "Name: class, Length: 7558, dtype: object\n",
      "       duration  src_bytes  dst_bytes     land  wrong_fragment    urgent  \\\n",
      "741   -0.116529  -0.010490  -0.040987 -0.01065       -0.092033 -0.007531   \n",
      "411   -0.116529  -0.010490  -0.040987 -0.01065       -0.092033 -0.007531   \n",
      "17841 -0.116529  -0.010490  -0.040987 -0.01065       -0.092033 -0.007531   \n",
      "20962 -0.116529  -0.010487  -0.040987 -0.01065       -0.092033 -0.007531   \n",
      "17790 -0.116529  -0.010490  -0.040987 -0.01065       -0.092033 -0.007531   \n",
      "...         ...        ...        ...      ...             ...       ...   \n",
      "21575 -0.116529  -0.010474  -0.039978 -0.01065       -0.092033 -0.007531   \n",
      "5390  -0.116174  -0.009934  -0.036354 -0.01065       -0.092033 -0.007531   \n",
      "860   -0.116529  -0.010490  -0.040987 -0.01065       -0.092033 -0.007531   \n",
      "15795 -0.116529  -0.010382   0.019849 -0.01065       -0.092033 -0.007531   \n",
      "23654 -0.116529  -0.010490  -0.040987 -0.01065       -0.092033 -0.007531   \n",
      "\n",
      "            hot  num_failed_logins  logged_in  num_compromised  ...  \\\n",
      "741   -0.094084          -0.026592  -0.803360        -0.022618  ...   \n",
      "411   -0.094084          -0.026592  -0.803360        -0.022618  ...   \n",
      "17841 -0.094084          -0.026592  -0.803360        -0.022618  ...   \n",
      "20962 -0.094084          -0.026592  -0.803360        -0.022618  ...   \n",
      "17790 -0.094084          -0.026592  -0.803360        -0.022618  ...   \n",
      "...         ...                ...        ...              ...  ...   \n",
      "21575 -0.094084          -0.026592  -0.803360        -0.022618  ...   \n",
      "5390  -0.094084          -0.026592   1.244702        -0.022618  ...   \n",
      "860   -0.094084          -0.026592  -0.803360        -0.022618  ...   \n",
      "15795 -0.094084          -0.026592   1.244702        -0.022618  ...   \n",
      "23654 -0.094084          -0.026592  -0.803360        -0.022618  ...   \n",
      "\n",
      "       dst_host_count  dst_host_srv_count  dst_host_same_srv_rate  \\\n",
      "741          0.732855           -1.029714               -1.156425   \n",
      "411          0.732855           -1.002549               -1.111838   \n",
      "17841        0.732855           -0.911998               -1.044958   \n",
      "20962       -1.820838            0.337605                1.072923   \n",
      "17790       -0.892222           -0.957273               -0.933491   \n",
      "...               ...                 ...                     ...   \n",
      "21575        0.732855            1.261224                1.072923   \n",
      "5390        -0.912409           -0.567904                0.114303   \n",
      "860          0.732855           -0.984439               -1.111838   \n",
      "15795       -1.629059            1.270279                1.072923   \n",
      "23654        0.732855           -1.002549               -1.111838   \n",
      "\n",
      "       dst_host_diff_srv_rate  dst_host_same_src_port_rate  \\\n",
      "741                 -0.014840                    -0.482584   \n",
      "411                 -0.121871                    -0.482584   \n",
      "17841               -0.068356                    -0.482584   \n",
      "20962               -0.442963                     2.737734   \n",
      "17790                0.199222                    -0.450381   \n",
      "...                       ...                          ...   \n",
      "21575               -0.389448                    -0.482584   \n",
      "5390                -0.175386                    -0.450381   \n",
      "860                 -0.068356                    -0.482584   \n",
      "15795               -0.442963                    -0.321568   \n",
      "23654               -0.068356                    -0.482584   \n",
      "\n",
      "       dst_host_srv_diff_host_rate  dst_host_serror_rate  \\\n",
      "741                      -0.292313              1.611687   \n",
      "411                      -0.292313             -0.638546   \n",
      "17841                    -0.292313             -0.638546   \n",
      "20962                     4.214675             -0.638546   \n",
      "17790                    -0.292313              1.611687   \n",
      "...                            ...                   ...   \n",
      "21575                    -0.292313             -0.638546   \n",
      "5390                     -0.292313             -0.638546   \n",
      "860                      -0.292313             -0.638546   \n",
      "15795                     0.158386             -0.638546   \n",
      "23654                    -0.292313              1.611687   \n",
      "\n",
      "       dst_host_srv_serror_rate  dst_host_rerror_rate  \\\n",
      "741                    1.623929             -0.386621   \n",
      "411                   -0.623749              2.876159   \n",
      "17841                 -0.623749              2.876159   \n",
      "20962                 -0.623749             -0.386621   \n",
      "17790                  1.623929             -0.386621   \n",
      "...                         ...                   ...   \n",
      "21575                 -0.623749             -0.386621   \n",
      "5390                  -0.623749             -0.386621   \n",
      "860                   -0.623749              2.876159   \n",
      "15795                 -0.623749             -0.386621   \n",
      "23654                  1.623929             -0.386621   \n",
      "\n",
      "       dst_host_srv_rerror_rate  \n",
      "741                   -0.375403  \n",
      "411                    2.766499  \n",
      "17841                  2.766499  \n",
      "20962                 -0.375403  \n",
      "17790                 -0.375403  \n",
      "...                         ...  \n",
      "21575                 -0.375403  \n",
      "5390                  -0.375403  \n",
      "860                    2.766499  \n",
      "15795                 -0.375403  \n",
      "23654                 -0.375403  \n",
      "\n",
      "[17634 rows x 38 columns]\n"
     ]
    }
   ],
   "source": [
    "numerical_cols = x_train.select_dtypes(include=[\"float64\", \"int64\"]).columns\n",
    "train_mean= x_train[numerical_cols].mean()\n",
    "train_std = x_train[numerical_cols].std()\n",
    "train_z_scores = x_train.copy()\n",
    "test_z_scores = x_test.copy()\n",
    "train_z_scores[numerical_cols]=(x_train[numerical_cols]-train_mean)/train_std\n",
    "test_z_scores[numerical_cols]=(x_test[numerical_cols]-train_mean)/train_std\n",
    "#handling the case of inf values after approximation\n",
    "#first replace the infwith nan\n",
    "#then using the fillna method to replace nan with the mean\n",
    "train_z_scores.replace([float('-inf'), float('inf')], float('nan'), inplace=True)\n",
    "test_z_scores.replace([float('-inf'), float('inf')], float('nan'), inplace=True)\n",
    "train_z_scores.fillna(train_z_scores[numerical_cols].mean(),inplace=True) # inplace will update the data frame\n",
    "test_z_scores.fillna(test_z_scores[numerical_cols].mean(),inplace=True)\n",
    "print(train_z_scores[numerical_cols])"
   ]
  },
  {
   "cell_type": "markdown",
   "metadata": {},
   "source": [
    "threshhold tuning \n",
    "is used to be able to tell if the data is anomly or not using z score values "
   ]
  },
  {
   "cell_type": "markdown",
   "metadata": {},
   "source": [
    "True Positive (TP): Anomaly samples that were correctly predicted as anomalies.\n",
    "False Negative (FN): Anomaly samples that were incorrectly predicted as normal (missed anomalies).\n",
    "False Positive (FP): Normal samples that were incorrectly predicted as anomalies (false alarms).\n",
    "True Negative (TN): Normal samples that were correctly      predicted as normal."
   ]
  },
  {
   "cell_type": "markdown",
   "metadata": {},
   "source": [
    "DataFrame.apply(func, axis=0, raw=False, result_type=None, args=(), **kwds)\n",
    "train_z_scores[numerical_cols].apply(lambda x: abs(x) > threshold).any(axis=1) \n",
    "[(axis =1 )applys to rows // (axis=1 ) applys to columns ]\n",
    "Lambda functions are simple, anonymous functions in Python.\n",
    "They are useful for short operations that are used temporarily"
   ]
  },
  {
   "cell_type": "code",
   "execution_count": null,
   "metadata": {},
   "outputs": [
    {
     "name": "stdout",
     "output_type": "stream",
     "text": [
      "    Threshold  Accuracy  Precision    Recall\n",
      "0         0.5  0.465202   0.465202  1.000000\n",
      "1         0.6  0.465202   0.465202  1.000000\n",
      "2         0.7  0.465202   0.465202  1.000000\n",
      "3         0.8  0.465202   0.465202  1.000000\n",
      "4         0.9  0.471024   0.467884  0.998578\n",
      "5         1.0  0.472876   0.468750  0.998294\n",
      "6         1.1  0.479227   0.471744  0.997156\n",
      "7         1.2  0.485446   0.474739  0.996871\n",
      "8         1.3  0.701508   0.611190  0.984926\n",
      "9         1.4  0.716592   0.623873  0.984073\n",
      "10        1.5  0.734983   0.640222  0.982366\n",
      "11        1.6  0.759196   0.663265  0.979807\n",
      "12        1.7  0.539031   0.505112  0.449659\n",
      "13        1.8  0.555703   0.528644  0.414676\n",
      "14        1.9  0.562450   0.541850  0.384812\n",
      "15        2.0  0.564832   0.546345  0.380546\n",
      "16        2.1  0.566155   0.548826  0.378840\n",
      "17        2.2  0.568669   0.553245  0.378271\n",
      "18        2.3  0.577534   0.570004  0.374005\n",
      "19        2.4  0.580577   0.575811  0.373720\n"
     ]
    },
    {
     "data": {
      "image/png": "[encoded data removed]",
      "text/plain": [
       "<Figure size 640x480 with 1 Axes>"
      ]
     },
     "metadata": {},
     "output_type": "display_data"
    }
   ],
   "source": [
    "# Define a range of z-score thresholds to try\n",
    "thresholds = np.arange(0.5, 2.5, 0.1)  # from 1 to 4 in steps of 0.1\n",
    "\n",
    "# Lists to store the metrics for each threshold\n",
    "accuracy_scores = []\n",
    "precision_scores = []\n",
    "recall_scores = []\n",
    "# Mapping the values inside the y_test to true and False to match the predicted values using the appply method\n",
    "y_test_binary = y_test.map({'anomaly': True, 'normal': False})\n",
    "for threshold in thresholds:\n",
    "    # it predicts Normal or Anomaly based on the threshhold value (OR operation etween columns)\n",
    "    train_z_scores['Predicted'] = train_z_scores[numerical_cols].apply(lambda x: abs(x) > threshold).any(axis=1)\n",
    "    test_z_scores['Predicted'] = test_z_scores[numerical_cols].apply(lambda x: abs(x) > threshold).any(axis=1)\n",
    "     # Ensure Predicted is boolean\n",
    "    test_z_scores['Predicted'] = test_z_scores['Predicted'].astype(bool)\n",
    "    # Calculate metrics using sklearn functions\n",
    "    accuracy = accuracy_score(y_test_binary, test_z_scores['Predicted'])\n",
    "    precision = precision_score(y_test_binary, test_z_scores['Predicted'], pos_label=True)  # Assuming 'Predicted' is the label\n",
    "    recall = recall_score(y_test_binary, test_z_scores['Predicted'], pos_label=True)  # \n",
    "\n",
    "    # Store the metrics for each threshold\n",
    "    accuracy_scores.append(accuracy)\n",
    "    precision_scores.append(precision)\n",
    "    recall_scores.append(recall)\n",
    "\n",
    "# Combine thresholds and scores into a DataFrame to view the results\n",
    "results = pd.DataFrame({\n",
    "    'Threshold': thresholds,\n",
    "    'Accuracy': accuracy_scores,\n",
    "    'Precision': precision_scores,\n",
    "    'Recall': recall_scores\n",
    "})\n",
    "\n",
    "# Display the thresholds with corresponding metrics\n",
    "print(results)\n",
    "\n",
    "\n",
    "# Optionally, plot the metrics to visually inspect the best threshold\n",
    "plt.plot(thresholds, accuracy_scores, label='Accuracy', color='blue')\n",
    "plt.plot(thresholds, precision_scores, label='Precision', color='green')\n",
    "plt.plot(thresholds, recall_scores, label='Recall', color='red')\n",
    "plt.xlabel('Z-Score Threshold')\n",
    "plt.ylabel('Score')\n",
    "plt.legend()\n",
    "plt.title('Performance Metrics vs. Z-Score Threshold')\n",
    "plt.show()\n",
    "\n"
   ]
  },
  {
   "cell_type": "markdown",
   "metadata": {},
   "source": [
    "so the best threshold is 1.5"
   ]
  },
  {
   "cell_type": "markdown",
   "metadata": {},
   "source": [
    "Regarding the key metric selection\n",
    "Precision: Best when minimizing false positives is important.\n",
    "Recall: Best when minimizing false negatives is crucial.\n"
   ]
  }
 ],
 "metadata": {
  "kernelspec": {
   "display_name": "Python 3",
   "language": "python",
   "name": "python3"
  },
  "language_info": {
   "codemirror_mode": {
    "name": "ipython",
    "version": 3
   },
   "file_extension": ".py",
   "mimetype": "text/x-python",
   "name": "python",
   "nbconvert_exporter": "python",
   "pygments_lexer": "ipython3",
   "version": "3.12.6"
  }
 },
 "nbformat": 4,
 "nbformat_minor": 2
}
